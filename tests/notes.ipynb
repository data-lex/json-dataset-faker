{
 "cells": [
  {
   "cell_type": "code",
   "execution_count": 1,
   "metadata": {},
   "outputs": [],
   "source": [
    "import json"
   ]
  },
  {
   "cell_type": "code",
   "execution_count": 2,
   "metadata": {},
   "outputs": [],
   "source": [
    "json_string = \"\"\"{\n",
    "    \"_id\": \"63348c2c838cbf9c62faefac\",\n",
    "    \"client\": {\n",
    "        \"city\": \"sometext\",\n",
    "        \"name\": \"Dummy\",\n",
    "        \"email\": \"dummy@email.com\",\n",
    "        \"sex\": \"sometext\",\n",
    "        \"birthdate\": \"1990-03-29T00:00:00.000Z\",\n",
    "        \"phone\": \"123 456 789\"\n",
    "    }\n",
    "}\"\"\""
   ]
  },
  {
   "cell_type": "code",
   "execution_count": 3,
   "metadata": {},
   "outputs": [],
   "source": [
    "json_dict = json.loads(json_string)"
   ]
  },
  {
   "cell_type": "code",
   "execution_count": 4,
   "metadata": {},
   "outputs": [],
   "source": [
    "from genson import SchemaBuilder"
   ]
  },
  {
   "cell_type": "code",
   "execution_count": 5,
   "metadata": {},
   "outputs": [],
   "source": [
    "builder = SchemaBuilder()"
   ]
  },
  {
   "cell_type": "code",
   "execution_count": 6,
   "metadata": {},
   "outputs": [],
   "source": [
    "builder.add_object(json_dict)"
   ]
  },
  {
   "cell_type": "code",
   "execution_count": 7,
   "metadata": {},
   "outputs": [],
   "source": [
    "schema = builder.to_schema()"
   ]
  },
  {
   "cell_type": "code",
   "execution_count": 8,
   "metadata": {},
   "outputs": [],
   "source": [
    "from jsf import JSF"
   ]
  },
  {
   "cell_type": "code",
   "execution_count": 9,
   "metadata": {},
   "outputs": [],
   "source": [
    "faker = JSF(schema)"
   ]
  },
  {
   "cell_type": "code",
   "execution_count": 10,
   "metadata": {},
   "outputs": [
    {
     "data": {
      "text/plain": [
       "{'_id': 'modi nobis elit. modi',\n",
       " 'client': {'city': 'consectetur reiciendis possimus officiis placeat',\n",
       "  'name': 'nobis adipisicing elit. elit. odit adipisicing',\n",
       "  'email': 'exercitationem repellendus nobis amet',\n",
       "  'sex': 'Hic dolor ipsum',\n",
       "  'birthdate': 'exercitationem quas nobis reprehenderit esse odit',\n",
       "  'phone': 'modi'}}"
      ]
     },
     "execution_count": 10,
     "metadata": {},
     "output_type": "execute_result"
    }
   ],
   "source": [
    "faker.generate()"
   ]
  }
 ],
 "metadata": {
  "kernelspec": {
   "display_name": "json-dataset-faker-TNHIjiwR-py3.11",
   "language": "python",
   "name": "python3"
  },
  "language_info": {
   "codemirror_mode": {
    "name": "ipython",
    "version": 3
   },
   "file_extension": ".py",
   "mimetype": "text/x-python",
   "name": "python",
   "nbconvert_exporter": "python",
   "pygments_lexer": "ipython3",
   "version": "3.11.1"
  },
  "orig_nbformat": 4,
  "vscode": {
   "interpreter": {
    "hash": "609fd8d4417f6fd5766374ee6fcb46025e6488f6f3ba2cbf7499a2495af5bea9"
   }
  }
 },
 "nbformat": 4,
 "nbformat_minor": 2
}
